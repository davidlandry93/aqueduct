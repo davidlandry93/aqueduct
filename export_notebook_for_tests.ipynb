{
 "cells": [
  {
   "cell_type": "code",
   "execution_count": 2,
   "metadata": {
    "execution": {
     "iopub.execute_input": "2023-06-13T20:38:07.815018Z",
     "iopub.status.busy": "2023-06-13T20:38:07.814823Z",
     "iopub.status.idle": "2023-06-13T20:38:07.834506Z",
     "shell.execute_reply": "2023-06-13T20:38:07.834106Z"
    }
   },
   "outputs": [],
   "source": [
    "%load_ext autoreload\n",
    "%autoreload 2"
   ]
  },
  {
   "cell_type": "code",
   "execution_count": 3,
   "metadata": {
    "execution": {
     "iopub.execute_input": "2023-06-13T20:38:07.838179Z",
     "iopub.status.busy": "2023-06-13T20:38:07.838008Z",
     "iopub.status.idle": "2023-06-13T20:38:07.855727Z",
     "shell.execute_reply": "2023-06-13T20:38:07.855289Z"
    }
   },
   "outputs": [
    {
     "data": {
      "text/plain": [
       "['/home/dlandry/repos/aqueduct',\n",
       " '/home/dlandry/miniconda3/envs/eddie/lib/python311.zip',\n",
       " '/home/dlandry/miniconda3/envs/eddie/lib/python3.11',\n",
       " '/home/dlandry/miniconda3/envs/eddie/lib/python3.11/lib-dynload',\n",
       " '',\n",
       " '/home/dlandry/miniconda3/envs/eddie/lib/python3.11/site-packages',\n",
       " '/home/dlandry/repos/aqueduct/src',\n",
       " '/home/dlandry/repos/eddie/src',\n",
       " '/home/dlandry/repos/aqueduct/tests']"
      ]
     },
     "execution_count": 3,
     "metadata": {},
     "output_type": "execute_result"
    }
   ],
   "source": [
    "import sys\n",
    "sys.path"
   ]
  },
  {
   "cell_type": "code",
   "execution_count": 4,
   "metadata": {
    "execution": {
     "iopub.execute_input": "2023-06-13T20:38:07.858931Z",
     "iopub.status.busy": "2023-06-13T20:38:07.858677Z",
     "iopub.status.idle": "2023-06-13T20:38:07.872967Z",
     "shell.execute_reply": "2023-06-13T20:38:07.872551Z"
    }
   },
   "outputs": [
    {
     "data": {
      "text/plain": [
       "'2023-06-13T22:38:07.870531'"
      ]
     },
     "execution_count": 4,
     "metadata": {},
     "output_type": "execute_result"
    }
   ],
   "source": [
    "import datetime\n",
    "datetime.datetime.now().isoformat()"
   ]
  },
  {
   "cell_type": "code",
   "execution_count": 5,
   "metadata": {
    "execution": {
     "iopub.execute_input": "2023-06-13T20:38:07.876162Z",
     "iopub.status.busy": "2023-06-13T20:38:07.875825Z",
     "iopub.status.idle": "2023-06-13T20:38:07.891065Z",
     "shell.execute_reply": "2023-06-13T20:38:07.890650Z"
    }
   },
   "outputs": [],
   "source": [
    "%reload_ext aqueduct.ipython\n",
    "%aq_task test_notebook.ExampleNotebookTask"
   ]
  },
  {
   "cell_type": "code",
   "execution_count": 6,
   "metadata": {
    "execution": {
     "iopub.execute_input": "2023-06-13T20:38:07.894395Z",
     "iopub.status.busy": "2023-06-13T20:38:07.894186Z",
     "iopub.status.idle": "2023-06-13T20:38:07.907052Z",
     "shell.execute_reply": "2023-06-13T20:38:07.906622Z"
    }
   },
   "outputs": [],
   "source": [
    "import aqueduct as aq\n",
    "from test_notebook import ExampleNotebookTask"
   ]
  },
  {
   "cell_type": "code",
   "execution_count": 7,
   "metadata": {
    "execution": {
     "iopub.execute_input": "2023-06-13T20:38:07.910380Z",
     "iopub.status.busy": "2023-06-13T20:38:07.910136Z",
     "iopub.status.idle": "2023-06-13T20:38:07.924094Z",
     "shell.execute_reply": "2023-06-13T20:38:07.923675Z"
    }
   },
   "outputs": [
    {
     "data": {
      "text/plain": [
       "True"
      ]
     },
     "execution_count": 7,
     "metadata": {},
     "output_type": "execute_result"
    }
   ],
   "source": [
    "aq.notebook.AQ_MANAGED_EXECUTION"
   ]
  },
  {
   "cell_type": "code",
   "execution_count": 8,
   "metadata": {
    "execution": {
     "iopub.execute_input": "2023-06-13T20:38:07.927325Z",
     "iopub.status.busy": "2023-06-13T20:38:07.927058Z",
     "iopub.status.idle": "2023-06-13T20:38:07.940942Z",
     "shell.execute_reply": "2023-06-13T20:38:07.940536Z"
    }
   },
   "outputs": [
    {
     "data": {
      "text/plain": [
       "<tests.test_notebook.ExampleNotebookTask at 0x7faad641d2d0>"
      ]
     },
     "execution_count": 8,
     "metadata": {},
     "output_type": "execute_result"
    }
   ],
   "source": [
    "aq.notebook.AQ_INJECTED_TASK"
   ]
  },
  {
   "cell_type": "code",
   "execution_count": 9,
   "metadata": {
    "execution": {
     "iopub.execute_input": "2023-06-13T20:38:07.943907Z",
     "iopub.status.busy": "2023-06-13T20:38:07.943665Z",
     "iopub.status.idle": "2023-06-13T20:38:07.956661Z",
     "shell.execute_reply": "2023-06-13T20:38:07.956265Z"
    }
   },
   "outputs": [],
   "source": [
    "t = aq.notebook.get_task(1)"
   ]
  },
  {
   "cell_type": "code",
   "execution_count": 10,
   "metadata": {
    "execution": {
     "iopub.execute_input": "2023-06-13T20:38:07.959657Z",
     "iopub.status.busy": "2023-06-13T20:38:07.959496Z",
     "iopub.status.idle": "2023-06-13T20:38:07.973738Z",
     "shell.execute_reply": "2023-06-13T20:38:07.973336Z"
    }
   },
   "outputs": [
    {
     "data": {
      "text/plain": [
       "tests.test_notebook.ExampleNotebookTask"
      ]
     },
     "execution_count": 10,
     "metadata": {},
     "output_type": "execute_result"
    }
   ],
   "source": [
    "type(t)"
   ]
  },
  {
   "cell_type": "code",
   "execution_count": 11,
   "metadata": {
    "execution": {
     "iopub.execute_input": "2023-06-13T20:38:07.976536Z",
     "iopub.status.busy": "2023-06-13T20:38:07.976338Z",
     "iopub.status.idle": "2023-06-13T20:38:07.990516Z",
     "shell.execute_reply": "2023-06-13T20:38:07.990116Z"
    }
   },
   "outputs": [
    {
     "data": {
      "text/plain": [
       "['CONFIG',\n",
       " '__annotations__',\n",
       " '__call__',\n",
       " '__class__',\n",
       " '__class_getitem__',\n",
       " '__delattr__',\n",
       " '__dict__',\n",
       " '__dir__',\n",
       " '__doc__',\n",
       " '__eq__',\n",
       " '__format__',\n",
       " '__ge__',\n",
       " '__getattribute__',\n",
       " '__getstate__',\n",
       " '__gt__',\n",
       " '__hash__',\n",
       " '__init__',\n",
       " '__init_subclass__',\n",
       " '__le__',\n",
       " '__lt__',\n",
       " '__module__',\n",
       " '__ne__',\n",
       " '__new__',\n",
       " '__orig_bases__',\n",
       " '__parameters__',\n",
       " '__reduce__',\n",
       " '__reduce_ex__',\n",
       " '__repr__',\n",
       " '__setattr__',\n",
       " '__sizeof__',\n",
       " '__slots__',\n",
       " '__str__',\n",
       " '__subclasshook__',\n",
       " '__weakref__',\n",
       " '_args_hash',\n",
       " '_fetch_sinked_value',\n",
       " '_fully_qualified_name',\n",
       " '_is_protocol',\n",
       " '_prepare_kernel_with_injected_code',\n",
       " '_resolve_artifact',\n",
       " '_resolve_notebook',\n",
       " '_resolve_requirements',\n",
       " '_unique_key',\n",
       " 'a',\n",
       " 'add_to_sys',\n",
       " 'artifact',\n",
       " 'b',\n",
       " 'config',\n",
       " 'export',\n",
       " 'is_cached',\n",
       " 'notebook',\n",
       " 'requirements',\n",
       " 'result',\n",
       " 'run',\n",
       " 'set_force_root']"
      ]
     },
     "execution_count": 11,
     "metadata": {},
     "output_type": "execute_result"
    }
   ],
   "source": [
    "dir(t)"
   ]
  },
  {
   "cell_type": "code",
   "execution_count": 12,
   "metadata": {
    "execution": {
     "iopub.execute_input": "2023-06-13T20:38:07.993168Z",
     "iopub.status.busy": "2023-06-13T20:38:07.993007Z",
     "iopub.status.idle": "2023-06-13T20:38:08.006413Z",
     "shell.execute_reply": "2023-06-13T20:38:08.005989Z"
    }
   },
   "outputs": [],
   "source": [
    "if aq.notebook.AQ_MANAGED_EXECUTION:\n",
    "    assert t.a == 33\n",
    "else:\n",
    "    assert t.a == 1"
   ]
  },
  {
   "cell_type": "code",
   "execution_count": 13,
   "metadata": {
    "execution": {
     "iopub.execute_input": "2023-06-13T20:38:08.009479Z",
     "iopub.status.busy": "2023-06-13T20:38:08.009152Z",
     "iopub.status.idle": "2023-06-13T20:38:08.022335Z",
     "shell.execute_reply": "2023-06-13T20:38:08.021921Z"
    }
   },
   "outputs": [],
   "source": [
    "aq.notebook.sink(t.b)"
   ]
  }
 ],
 "metadata": {
  "kernelspec": {
   "display_name": "eddie",
   "language": "python",
   "name": "python3"
  },
  "language_info": {
   "codemirror_mode": {
    "name": "ipython",
    "version": 3
   },
   "file_extension": ".py",
   "mimetype": "text/x-python",
   "name": "python",
   "nbconvert_exporter": "python",
   "pygments_lexer": "ipython3",
   "version": "3.11.3"
  }
 },
 "nbformat": 4,
 "nbformat_minor": 2
}
