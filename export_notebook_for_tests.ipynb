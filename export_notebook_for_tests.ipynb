{
 "cells": [
  {
   "cell_type": "code",
   "execution_count": 2,
   "metadata": {
    "execution": {
     "iopub.execute_input": "2023-06-13T20:23:03.846054Z",
     "iopub.status.busy": "2023-06-13T20:23:03.845851Z",
     "iopub.status.idle": "2023-06-13T20:23:03.867475Z",
     "shell.execute_reply": "2023-06-13T20:23:03.866843Z"
    }
   },
   "outputs": [],
   "source": [
    "%load_ext autoreload\n",
    "%autoreload 2"
   ]
  },
  {
   "cell_type": "code",
   "execution_count": 3,
   "metadata": {
    "execution": {
     "iopub.execute_input": "2023-06-13T20:23:03.871817Z",
     "iopub.status.busy": "2023-06-13T20:23:03.871360Z",
     "iopub.status.idle": "2023-06-13T20:23:03.891131Z",
     "shell.execute_reply": "2023-06-13T20:23:03.890531Z"
    }
   },
   "outputs": [
    {
     "data": {
      "text/plain": [
       "['/home/dlandry/repos/aqueduct',\n",
       " '/home/dlandry/miniconda3/envs/eddie/lib/python311.zip',\n",
       " '/home/dlandry/miniconda3/envs/eddie/lib/python3.11',\n",
       " '/home/dlandry/miniconda3/envs/eddie/lib/python3.11/lib-dynload',\n",
       " '',\n",
       " '/home/dlandry/miniconda3/envs/eddie/lib/python3.11/site-packages',\n",
       " '/home/dlandry/repos/aqueduct/src',\n",
       " '/home/dlandry/repos/eddie/src',\n",
       " '/home/dlandry/repos/aqueduct/tests']"
      ]
     },
     "execution_count": 3,
     "metadata": {},
     "output_type": "execute_result"
    }
   ],
   "source": [
    "import sys\n",
    "sys.path"
   ]
  },
  {
   "cell_type": "code",
   "execution_count": 4,
   "metadata": {
    "execution": {
     "iopub.execute_input": "2023-06-13T20:23:03.958993Z",
     "iopub.status.busy": "2023-06-13T20:23:03.958779Z",
     "iopub.status.idle": "2023-06-13T20:23:03.989265Z",
     "shell.execute_reply": "2023-06-13T20:23:03.988471Z"
    }
   },
   "outputs": [
    {
     "data": {
      "text/plain": [
       "'2023-06-13T22:23:03.984888'"
      ]
     },
     "execution_count": 4,
     "metadata": {},
     "output_type": "execute_result"
    }
   ],
   "source": [
    "import datetime\n",
    "datetime.datetime.now().isoformat()"
   ]
  },
  {
   "cell_type": "code",
   "execution_count": 5,
   "metadata": {
    "execution": {
     "iopub.execute_input": "2023-06-13T20:23:03.993576Z",
     "iopub.status.busy": "2023-06-13T20:23:03.993136Z",
     "iopub.status.idle": "2023-06-13T20:23:04.021908Z",
     "shell.execute_reply": "2023-06-13T20:23:04.021134Z"
    }
   },
   "outputs": [],
   "source": [
    "%reload_ext aqueduct.ipython\n",
    "%aq_task test_notebook.ExampleNotebookTask"
   ]
  },
  {
   "cell_type": "code",
   "execution_count": 6,
   "metadata": {
    "execution": {
     "iopub.execute_input": "2023-06-13T20:23:04.026479Z",
     "iopub.status.busy": "2023-06-13T20:23:04.026089Z",
     "iopub.status.idle": "2023-06-13T20:23:04.048530Z",
     "shell.execute_reply": "2023-06-13T20:23:04.047736Z"
    }
   },
   "outputs": [],
   "source": [
    "import aqueduct as aq\n",
    "from test_notebook import ExampleNotebookTask"
   ]
  },
  {
   "cell_type": "code",
   "execution_count": 7,
   "metadata": {
    "execution": {
     "iopub.execute_input": "2023-06-13T20:23:04.052819Z",
     "iopub.status.busy": "2023-06-13T20:23:04.052587Z",
     "iopub.status.idle": "2023-06-13T20:23:04.074251Z",
     "shell.execute_reply": "2023-06-13T20:23:04.073535Z"
    }
   },
   "outputs": [
    {
     "data": {
      "text/plain": [
       "True"
      ]
     },
     "execution_count": 7,
     "metadata": {},
     "output_type": "execute_result"
    }
   ],
   "source": [
    "aq.notebook.AQ_MANAGED_EXECUTION"
   ]
  },
  {
   "cell_type": "code",
   "execution_count": 8,
   "metadata": {
    "execution": {
     "iopub.execute_input": "2023-06-13T20:23:04.077828Z",
     "iopub.status.busy": "2023-06-13T20:23:04.077613Z",
     "iopub.status.idle": "2023-06-13T20:23:04.098135Z",
     "shell.execute_reply": "2023-06-13T20:23:04.097486Z"
    }
   },
   "outputs": [
    {
     "data": {
      "text/plain": [
       "<tests.test_notebook.ExampleNotebookTask at 0x7f5d541d17d0>"
      ]
     },
     "execution_count": 8,
     "metadata": {},
     "output_type": "execute_result"
    }
   ],
   "source": [
    "aq.notebook.AQ_INJECTED_TASK"
   ]
  },
  {
   "cell_type": "code",
   "execution_count": 9,
   "metadata": {
    "execution": {
     "iopub.execute_input": "2023-06-13T20:23:04.101545Z",
     "iopub.status.busy": "2023-06-13T20:23:04.101358Z",
     "iopub.status.idle": "2023-06-13T20:23:04.119345Z",
     "shell.execute_reply": "2023-06-13T20:23:04.118716Z"
    }
   },
   "outputs": [],
   "source": [
    "t = aq.notebook.get_task(1)"
   ]
  },
  {
   "cell_type": "code",
   "execution_count": 10,
   "metadata": {
    "execution": {
     "iopub.execute_input": "2023-06-13T20:23:04.122945Z",
     "iopub.status.busy": "2023-06-13T20:23:04.122534Z",
     "iopub.status.idle": "2023-06-13T20:23:04.140756Z",
     "shell.execute_reply": "2023-06-13T20:23:04.140113Z"
    }
   },
   "outputs": [
    {
     "data": {
      "text/plain": [
       "tests.test_notebook.ExampleNotebookTask"
      ]
     },
     "execution_count": 10,
     "metadata": {},
     "output_type": "execute_result"
    }
   ],
   "source": [
    "type(t)"
   ]
  },
  {
   "cell_type": "code",
   "execution_count": 11,
   "metadata": {
    "execution": {
     "iopub.execute_input": "2023-06-13T20:23:04.143960Z",
     "iopub.status.busy": "2023-06-13T20:23:04.143786Z",
     "iopub.status.idle": "2023-06-13T20:23:04.162130Z",
     "shell.execute_reply": "2023-06-13T20:23:04.161490Z"
    }
   },
   "outputs": [
    {
     "data": {
      "text/plain": [
       "['CONFIG',\n",
       " '__annotations__',\n",
       " '__call__',\n",
       " '__class__',\n",
       " '__class_getitem__',\n",
       " '__delattr__',\n",
       " '__dict__',\n",
       " '__dir__',\n",
       " '__doc__',\n",
       " '__eq__',\n",
       " '__format__',\n",
       " '__ge__',\n",
       " '__getattribute__',\n",
       " '__getstate__',\n",
       " '__gt__',\n",
       " '__hash__',\n",
       " '__init__',\n",
       " '__init_subclass__',\n",
       " '__le__',\n",
       " '__lt__',\n",
       " '__module__',\n",
       " '__ne__',\n",
       " '__new__',\n",
       " '__orig_bases__',\n",
       " '__parameters__',\n",
       " '__reduce__',\n",
       " '__reduce_ex__',\n",
       " '__repr__',\n",
       " '__setattr__',\n",
       " '__sizeof__',\n",
       " '__slots__',\n",
       " '__str__',\n",
       " '__subclasshook__',\n",
       " '__weakref__',\n",
       " '_args_hash',\n",
       " '_fully_qualified_name',\n",
       " '_is_protocol',\n",
       " '_resolve_artifact',\n",
       " '_resolve_notebook',\n",
       " '_resolve_requirements',\n",
       " '_unique_key',\n",
       " 'a',\n",
       " 'add_to_sys',\n",
       " 'artifact',\n",
       " 'b',\n",
       " 'config',\n",
       " 'export',\n",
       " 'is_cached',\n",
       " 'notebook',\n",
       " 'requirements',\n",
       " 'result',\n",
       " 'run',\n",
       " 'set_force_root']"
      ]
     },
     "execution_count": 11,
     "metadata": {},
     "output_type": "execute_result"
    }
   ],
   "source": [
    "dir(t)"
   ]
  },
  {
   "cell_type": "code",
   "execution_count": 12,
   "metadata": {
    "execution": {
     "iopub.execute_input": "2023-06-13T20:23:04.165082Z",
     "iopub.status.busy": "2023-06-13T20:23:04.164919Z",
     "iopub.status.idle": "2023-06-13T20:23:04.181498Z",
     "shell.execute_reply": "2023-06-13T20:23:04.180846Z"
    }
   },
   "outputs": [],
   "source": [
    "if aq.notebook.AQ_MANAGED_EXECUTION:\n",
    "    assert t.a == 33\n",
    "else:\n",
    "    assert t.a == 1"
   ]
  },
  {
   "cell_type": "code",
   "execution_count": 13,
   "metadata": {
    "execution": {
     "iopub.execute_input": "2023-06-13T20:23:04.185044Z",
     "iopub.status.busy": "2023-06-13T20:23:04.184559Z",
     "iopub.status.idle": "2023-06-13T20:23:04.200984Z",
     "shell.execute_reply": "2023-06-13T20:23:04.200391Z"
    }
   },
   "outputs": [],
   "source": [
    "aq.notebook.sink(t.b)"
   ]
  }
 ],
 "metadata": {
  "kernelspec": {
   "display_name": "eddie",
   "language": "python",
   "name": "python3"
  },
  "language_info": {
   "codemirror_mode": {
    "name": "ipython",
    "version": 3
   },
   "file_extension": ".py",
   "mimetype": "text/x-python",
   "name": "python",
   "nbconvert_exporter": "python",
   "pygments_lexer": "ipython3",
   "version": "3.11.3"
  }
 },
 "nbformat": 4,
 "nbformat_minor": 2
}
