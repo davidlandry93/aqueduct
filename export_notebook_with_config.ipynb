{
 "cells": [
  {
   "cell_type": "code",
   "execution_count": 2,
   "metadata": {
    "execution": {
     "iopub.execute_input": "2023-06-13T20:27:55.148777Z",
     "iopub.status.busy": "2023-06-13T20:27:55.148527Z",
     "iopub.status.idle": "2023-06-13T20:27:55.169295Z",
     "shell.execute_reply": "2023-06-13T20:27:55.168785Z"
    }
   },
   "outputs": [],
   "source": [
    "%load_ext autoreload\n",
    "%autoreload 2"
   ]
  },
  {
   "cell_type": "code",
   "execution_count": 3,
   "metadata": {
    "execution": {
     "iopub.execute_input": "2023-06-13T20:27:55.173195Z",
     "iopub.status.busy": "2023-06-13T20:27:55.172964Z",
     "iopub.status.idle": "2023-06-13T20:27:55.190205Z",
     "shell.execute_reply": "2023-06-13T20:27:55.189745Z"
    }
   },
   "outputs": [],
   "source": [
    "%load_ext aqueduct.ipython\n",
    "%aq_task test_notebook.ConfigNotebookTask"
   ]
  },
  {
   "cell_type": "code",
   "execution_count": 4,
   "metadata": {
    "execution": {
     "iopub.execute_input": "2023-06-13T20:27:55.193706Z",
     "iopub.status.busy": "2023-06-13T20:27:55.193501Z",
     "iopub.status.idle": "2023-06-13T20:27:55.207185Z",
     "shell.execute_reply": "2023-06-13T20:27:55.206682Z"
    }
   },
   "outputs": [],
   "source": [
    "import aqueduct as aq"
   ]
  },
  {
   "cell_type": "code",
   "execution_count": 5,
   "metadata": {
    "execution": {
     "iopub.execute_input": "2023-06-13T20:27:55.210677Z",
     "iopub.status.busy": "2023-06-13T20:27:55.210421Z",
     "iopub.status.idle": "2023-06-13T20:27:55.223734Z",
     "shell.execute_reply": "2023-06-13T20:27:55.223281Z"
    }
   },
   "outputs": [],
   "source": [
    "cfg = aq.get_config()\n",
    "assert cfg['test_config_injection'] == 1"
   ]
  }
 ],
 "metadata": {
  "kernelspec": {
   "display_name": "eddie",
   "language": "python",
   "name": "python3"
  },
  "language_info": {
   "codemirror_mode": {
    "name": "ipython",
    "version": 3
   },
   "file_extension": ".py",
   "mimetype": "text/x-python",
   "name": "python",
   "nbconvert_exporter": "python",
   "pygments_lexer": "ipython3",
   "version": "3.11.3"
  }
 },
 "nbformat": 4,
 "nbformat_minor": 2
}
