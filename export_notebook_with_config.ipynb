{
 "cells": [
  {
   "cell_type": "code",
   "execution_count": 2,
   "metadata": {
    "execution": {
     "iopub.execute_input": "2023-06-13T20:38:03.333969Z",
     "iopub.status.busy": "2023-06-13T20:38:03.333651Z",
     "iopub.status.idle": "2023-06-13T20:38:03.355229Z",
     "shell.execute_reply": "2023-06-13T20:38:03.354614Z"
    }
   },
   "outputs": [],
   "source": [
    "%load_ext autoreload\n",
    "%autoreload 2"
   ]
  },
  {
   "cell_type": "code",
   "execution_count": 3,
   "metadata": {
    "execution": {
     "iopub.execute_input": "2023-06-13T20:38:03.359053Z",
     "iopub.status.busy": "2023-06-13T20:38:03.358831Z",
     "iopub.status.idle": "2023-06-13T20:38:03.376553Z",
     "shell.execute_reply": "2023-06-13T20:38:03.375806Z"
    }
   },
   "outputs": [],
   "source": [
    "%load_ext aqueduct.ipython\n",
    "%aq_task test_notebook.ConfigNotebookTask"
   ]
  },
  {
   "cell_type": "code",
   "execution_count": 4,
   "metadata": {
    "execution": {
     "iopub.execute_input": "2023-06-13T20:38:03.379955Z",
     "iopub.status.busy": "2023-06-13T20:38:03.379695Z",
     "iopub.status.idle": "2023-06-13T20:38:03.393909Z",
     "shell.execute_reply": "2023-06-13T20:38:03.393249Z"
    }
   },
   "outputs": [],
   "source": [
    "import aqueduct as aq"
   ]
  },
  {
   "cell_type": "code",
   "execution_count": 5,
   "metadata": {
    "execution": {
     "iopub.execute_input": "2023-06-13T20:38:03.397338Z",
     "iopub.status.busy": "2023-06-13T20:38:03.397132Z",
     "iopub.status.idle": "2023-06-13T20:38:03.410658Z",
     "shell.execute_reply": "2023-06-13T20:38:03.410058Z"
    }
   },
   "outputs": [],
   "source": [
    "cfg = aq.get_config()\n",
    "assert cfg['test_config_injection'] == 1"
   ]
  }
 ],
 "metadata": {
  "kernelspec": {
   "display_name": "eddie",
   "language": "python",
   "name": "python3"
  },
  "language_info": {
   "codemirror_mode": {
    "name": "ipython",
    "version": 3
   },
   "file_extension": ".py",
   "mimetype": "text/x-python",
   "name": "python",
   "nbconvert_exporter": "python",
   "pygments_lexer": "ipython3",
   "version": "3.11.3"
  }
 },
 "nbformat": 4,
 "nbformat_minor": 2
}
